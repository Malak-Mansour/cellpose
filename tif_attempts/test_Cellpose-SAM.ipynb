{
 "cells": [
  {
   "cell_type": "code",
   "execution_count": null,
   "id": "4a17973d",
   "metadata": {},
   "outputs": [],
   "source": [
    "!pip install git+https://www.github.com/mouseland/cellpose.git"
   ]
  },
  {
   "cell_type": "code",
   "execution_count": null,
   "id": "009038af",
   "metadata": {},
   "outputs": [],
   "source": [
    "import numpy as np\n",
    "from cellpose import models, core, io, plot\n",
    "from pathlib import Path\n",
    "from tqdm import trange\n",
    "import matplotlib.pyplot as plt\n",
    "\n",
    "io.logger_setup() # run this to get printing of progress\n",
    "\n",
    "#Check if colab notebook instance has GPU access\n",
    "if core.use_gpu()==False:\n",
    "  raise ImportError(\"No GPU access, change your runtime\")\n",
    "\n",
    "model = models.CellposeModel(gpu=True)"
   ]
  },
  {
   "cell_type": "code",
   "execution_count": null,
   "id": "9f65621c",
   "metadata": {},
   "outputs": [],
   "source": [
    "import os\n",
    "import numpy as np\n",
    "import matplotlib.pyplot as plt\n",
    "from skimage.io import imread\n",
    "from cellpose import models, transforms, utils\n",
    "\n",
    "# Load Cellpose model (adjust model_type if needed)\n",
    "model = models.CellposeModel(gpu=True, model_type='cyto')  # ✅ New\n",
    "\n",
    "# Path to your folder of .tif images\n",
    "image_folder = 'images'  \n",
    "image_files = sorted([f for f in os.listdir(image_folder) if f.endswith('.tif')])[:2]\n",
    "print(image_files)\n",
    "\n",
    "# Load a few images (e.g. 6 max for nice visualization)\n",
    "imgs = []\n",
    "image_names = []\n",
    "for fname in sorted(image_files):\n",
    "    img = imread(os.path.join(image_folder, fname))\n",
    "    if img.ndim == 2:\n",
    "        img = np.expand_dims(img, axis=0)  # grayscale: (1, H, W)\n",
    "    elif img.ndim == 3 and img.shape[-1] == 3:\n",
    "        img = img.transpose(2, 0, 1)        # RGB: (3, H, W)\n",
    "    imgs.append(img)\n",
    "    image_names.append(fname)\n",
    "\n",
    "imgs = np.stack(imgs, axis=0)  # shape: (N, C, H, W)\n",
    "print(imgs.shape)\n"
   ]
  },
  {
   "cell_type": "code",
   "execution_count": null,
   "id": "6905361c",
   "metadata": {},
   "outputs": [],
   "source": [
    "# Prepare output lists\n",
    "masks_pred_all, flows_all, styles_all = [], [], []\n",
    "\n",
    "\n",
    "for img in imgs:\n",
    "  # Inference using more iterations (e.g., for bacterial images)\n",
    "  masks_pred, flows, styles = model.eval(\n",
    "      img,\n",
    "      niter=1000,\n",
    "      do_3D=False,      # ✅ force 2D\n",
    "      channels=[0, 0]   # ✅ grayscale; adjust to [0,1] if using 2-channel input\n",
    "  )\n",
    "  masks_pred_all.append(masks_pred)\n",
    "  flows_all.append(flows)\n",
    "  styles_all.append(styles)"
   ]
  },
  {
   "cell_type": "code",
   "execution_count": null,
   "id": "05c89bb8",
   "metadata": {},
   "outputs": [],
   "source": [
    "# Titles for visualization\n",
    "titles = image_names\n",
    "\n",
    "\n",
    "# Plotting predictions\n",
    "plt.figure(figsize=(14, 6))\n",
    "for iex in range(len(imgs)):\n",
    "    img = imgs[iex].copy()\n",
    "    img = np.clip(transforms.normalize_img(img, axis=0), 0, 1)\n",
    "\n",
    "    ax = plt.subplot(2, 3, iex + 1)\n",
    "    if img.shape[0] == 1:\n",
    "        ax.imshow(img[0], cmap=\"gray\")\n",
    "    else:\n",
    "        ax.imshow(img.transpose(1, 2, 0))\n",
    "\n",
    "    # Draw predicted mask outlines in yellow\n",
    "    outlines_pred = utils.outlines_list(masks_pred_all[iex])\n",
    "    for o in outlines_pred:\n",
    "        plt.plot(o[:, 0], o[:, 1], color=[1, 1, 0.3], lw=0.75, ls=\"--\")\n",
    "\n",
    "    ax.set_title(titles[iex])\n",
    "    ax.axis('off')\n",
    "\n",
    "\n",
    "plt.tight_layout()\n",
    "plt.show()\n"
   ]
  }
 ],
 "metadata": {
  "kernelspec": {
   "display_name": "cellpose",
   "language": "python",
   "name": "python3"
  },
  "language_info": {
   "name": "python",
   "version": "3.8.5"
  }
 },
 "nbformat": 4,
 "nbformat_minor": 5
}
